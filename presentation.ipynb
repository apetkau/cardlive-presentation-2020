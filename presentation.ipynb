{
 "cells": [
  {
   "cell_type": "code",
   "execution_count": 13,
   "metadata": {
    "slideshow": {
     "slide_type": "slide"
    }
   },
   "outputs": [
    {
     "data": {
      "text/html": [
       "<div>\n",
       "<style scoped>\n",
       "    .dataframe tbody tr th:only-of-type {\n",
       "        vertical-align: middle;\n",
       "    }\n",
       "\n",
       "    .dataframe tbody tr th {\n",
       "        vertical-align: top;\n",
       "    }\n",
       "\n",
       "    .dataframe thead th {\n",
       "        text-align: right;\n",
       "    }\n",
       "</style>\n",
       "<table border=\"1\" class=\"dataframe\">\n",
       "  <thead>\n",
       "    <tr style=\"text-align: right;\">\n",
       "      <th></th>\n",
       "      <th>sepal_length</th>\n",
       "      <th>sepal_width</th>\n",
       "      <th>petal_length</th>\n",
       "      <th>petal_width</th>\n",
       "      <th>species</th>\n",
       "      <th>species_id</th>\n",
       "    </tr>\n",
       "  </thead>\n",
       "  <tbody>\n",
       "    <tr>\n",
       "      <th>0</th>\n",
       "      <td>5.1</td>\n",
       "      <td>3.5</td>\n",
       "      <td>1.4</td>\n",
       "      <td>0.2</td>\n",
       "      <td>setosa</td>\n",
       "      <td>1</td>\n",
       "    </tr>\n",
       "    <tr>\n",
       "      <th>1</th>\n",
       "      <td>4.9</td>\n",
       "      <td>3.0</td>\n",
       "      <td>1.4</td>\n",
       "      <td>0.2</td>\n",
       "      <td>setosa</td>\n",
       "      <td>1</td>\n",
       "    </tr>\n",
       "    <tr>\n",
       "      <th>2</th>\n",
       "      <td>4.7</td>\n",
       "      <td>3.2</td>\n",
       "      <td>1.3</td>\n",
       "      <td>0.2</td>\n",
       "      <td>setosa</td>\n",
       "      <td>1</td>\n",
       "    </tr>\n",
       "    <tr>\n",
       "      <th>3</th>\n",
       "      <td>4.6</td>\n",
       "      <td>3.1</td>\n",
       "      <td>1.5</td>\n",
       "      <td>0.2</td>\n",
       "      <td>setosa</td>\n",
       "      <td>1</td>\n",
       "    </tr>\n",
       "  </tbody>\n",
       "</table>\n",
       "</div>"
      ],
      "text/plain": [
       "   sepal_length  sepal_width  petal_length  petal_width species  species_id\n",
       "0           5.1          3.5           1.4          0.2  setosa           1\n",
       "1           4.9          3.0           1.4          0.2  setosa           1\n",
       "2           4.7          3.2           1.3          0.2  setosa           1\n",
       "3           4.6          3.1           1.5          0.2  setosa           1"
      ]
     },
     "execution_count": 13,
     "metadata": {},
     "output_type": "execute_result"
    }
   ],
   "source": [
    "import pandas as pd\n",
    "\n",
    "df = pd.read_csv('plotly_iris.csv')\n",
    "df.head(4)"
   ]
  },
  {
   "cell_type": "markdown",
   "metadata": {},
   "source": [
    "# Load JSON"
   ]
  },
  {
   "cell_type": "code",
   "execution_count": 42,
   "metadata": {},
   "outputs": [],
   "source": [
    "from pathlib import Path\n",
    "from os import path\n",
    "import json\n",
    "\n",
    "def read_json(directory):\n",
    "    data = []\n",
    "    for file in Path(directory).glob('*'):\n",
    "        with open(file) as f:\n",
    "            json_obj = json.load(f)\n",
    "            json_obj['filename'] = path.basename(file)\n",
    "            data.append(json_obj)\n",
    "    return data"
   ]
  },
  {
   "cell_type": "code",
   "execution_count": 43,
   "metadata": {},
   "outputs": [
    {
     "data": {
      "text/html": [
       "<div>\n",
       "<style scoped>\n",
       "    .dataframe tbody tr th:only-of-type {\n",
       "        vertical-align: middle;\n",
       "    }\n",
       "\n",
       "    .dataframe tbody tr th {\n",
       "        vertical-align: top;\n",
       "    }\n",
       "\n",
       "    .dataframe thead th {\n",
       "        text-align: right;\n",
       "    }\n",
       "</style>\n",
       "<table border=\"1\" class=\"dataframe\">\n",
       "  <thead>\n",
       "    <tr style=\"text-align: right;\">\n",
       "      <th></th>\n",
       "      <th>timestamp</th>\n",
       "      <th>geo_area_code</th>\n",
       "      <th>geo_area_name</th>\n",
       "      <th>rgi_main</th>\n",
       "      <th>rgi_kmer</th>\n",
       "      <th>mlst</th>\n",
       "      <th>lmat</th>\n",
       "    </tr>\n",
       "    <tr>\n",
       "      <th>filename</th>\n",
       "      <th></th>\n",
       "      <th></th>\n",
       "      <th></th>\n",
       "      <th></th>\n",
       "      <th></th>\n",
       "      <th></th>\n",
       "      <th></th>\n",
       "    </tr>\n",
       "  </thead>\n",
       "  <tbody>\n",
       "    <tr>\n",
       "      <th>file1</th>\n",
       "      <td>2020-08-01 13:12:11.123456</td>\n",
       "      <td>15</td>\n",
       "      <td>Antartica</td>\n",
       "      <td>[{'Cut_Off': 'Perfect', 'Pass_Bitscore': '100'...</td>\n",
       "      <td>[{'CARD*kmer Prediction': 'Enterobacteriaceae ...</td>\n",
       "      <td>[{'scheme': 'senterica', 'sequence_type': '-'}]</td>\n",
       "      <td>[{'score': '100', 'count': '100', 'ncbi_taxon_...</td>\n",
       "    </tr>\n",
       "    <tr>\n",
       "      <th>file2</th>\n",
       "      <td>2020-08-02 13:12:11.123456</td>\n",
       "      <td>15</td>\n",
       "      <td>Northern America</td>\n",
       "      <td>[{'Cut_Off': 'Perfect', 'Pass_Bitscore': '100'...</td>\n",
       "      <td>[{'CARD*kmer Prediction': 'Enterobacteriaceae ...</td>\n",
       "      <td>[{'scheme': 'senterica', 'sequence_type': '-'}]</td>\n",
       "      <td>[{'score': '100', 'count': '100', 'ncbi_taxon_...</td>\n",
       "    </tr>\n",
       "    <tr>\n",
       "      <th>file3</th>\n",
       "      <td>2020-08-05 13:12:11.123456</td>\n",
       "      <td>15</td>\n",
       "      <td>Oceana</td>\n",
       "      <td>[{'Cut_Off': 'Perfect', 'Pass_Bitscore': '100'...</td>\n",
       "      <td>[{'CARD*kmer Prediction': 'Enterobacteriaceae ...</td>\n",
       "      <td>[{'scheme': 'senterica', 'sequence_type': '-'}]</td>\n",
       "      <td>[{'score': '100', 'count': '100', 'ncbi_taxon_...</td>\n",
       "    </tr>\n",
       "  </tbody>\n",
       "</table>\n",
       "</div>"
      ],
      "text/plain": [
       "                           timestamp geo_area_code     geo_area_name  \\\n",
       "filename                                                               \n",
       "file1     2020-08-01 13:12:11.123456            15         Antartica   \n",
       "file2     2020-08-02 13:12:11.123456            15  Northern America   \n",
       "file3     2020-08-05 13:12:11.123456            15            Oceana   \n",
       "\n",
       "                                                   rgi_main  \\\n",
       "filename                                                      \n",
       "file1     [{'Cut_Off': 'Perfect', 'Pass_Bitscore': '100'...   \n",
       "file2     [{'Cut_Off': 'Perfect', 'Pass_Bitscore': '100'...   \n",
       "file3     [{'Cut_Off': 'Perfect', 'Pass_Bitscore': '100'...   \n",
       "\n",
       "                                                   rgi_kmer  \\\n",
       "filename                                                      \n",
       "file1     [{'CARD*kmer Prediction': 'Enterobacteriaceae ...   \n",
       "file2     [{'CARD*kmer Prediction': 'Enterobacteriaceae ...   \n",
       "file3     [{'CARD*kmer Prediction': 'Enterobacteriaceae ...   \n",
       "\n",
       "                                                     mlst  \\\n",
       "filename                                                    \n",
       "file1     [{'scheme': 'senterica', 'sequence_type': '-'}]   \n",
       "file2     [{'scheme': 'senterica', 'sequence_type': '-'}]   \n",
       "file3     [{'scheme': 'senterica', 'sequence_type': '-'}]   \n",
       "\n",
       "                                                       lmat  \n",
       "filename                                                     \n",
       "file1     [{'score': '100', 'count': '100', 'ncbi_taxon_...  \n",
       "file2     [{'score': '100', 'count': '100', 'ncbi_taxon_...  \n",
       "file3     [{'score': '100', 'count': '100', 'ncbi_taxon_...  "
      ]
     },
     "execution_count": 43,
     "metadata": {},
     "output_type": "execute_result"
    }
   ],
   "source": [
    "data = read_json('json/')\n",
    "pd.json_normalize(data).set_index('filename')"
   ]
  },
  {
   "cell_type": "code",
   "execution_count": 16,
   "metadata": {},
   "outputs": [
    {
     "data": {
      "text/plain": [
       "<AxesSubplot:xlabel='petal_length', ylabel='sepal_width'>"
      ]
     },
     "execution_count": 16,
     "metadata": {},
     "output_type": "execute_result"
    },
    {
     "data": {
      "image/png": "[encoded data removed]",
      "text/plain": [
       "<Figure size 432x288 with 1 Axes>"
      ]
     },
     "metadata": {
      "needs_background": "light"
     },
     "output_type": "display_data"
    }
   ],
   "source": [
    "df.plot(kind='scatter', x='petal_length', y='sepal_width')"
   ]
  }
 ],
 "metadata": {
  "kernelspec": {
   "display_name": "Python 3",
   "language": "python",
   "name": "python3"
  },
  "language_info": {
   "codemirror_mode": {
    "name": "ipython",
    "version": 3
   },
   "file_extension": ".py",
   "mimetype": "text/x-python",
   "name": "python",
   "nbconvert_exporter": "python",
   "pygments_lexer": "ipython3",
   "version": "3.8.5"
  }
 },
 "nbformat": 4,
 "nbformat_minor": 4
}
